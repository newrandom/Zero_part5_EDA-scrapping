{
 "cells": [
  {
   "cell_type": "code",
   "execution_count": 1,
   "metadata": {},
   "outputs": [],
   "source": [
    "import googlemaps"
   ]
  },
  {
   "cell_type": "code",
   "execution_count": 2,
   "metadata": {},
   "outputs": [
    {
     "data": {
      "text/plain": [
       "[{'address_components': [{'long_name': '６０８',\n",
       "    'short_name': '６０８',\n",
       "    'types': ['premise']},\n",
       "   {'long_name': '국회대로',\n",
       "    'short_name': '국회대로',\n",
       "    'types': ['political', 'sublocality', 'sublocality_level_4']},\n",
       "   {'long_name': '영등포구',\n",
       "    'short_name': '영등포구',\n",
       "    'types': ['political', 'sublocality', 'sublocality_level_1']},\n",
       "   {'long_name': '서울특별시',\n",
       "    'short_name': '서울특별시',\n",
       "    'types': ['administrative_area_level_1', 'political']},\n",
       "   {'long_name': '대한민국',\n",
       "    'short_name': 'KR',\n",
       "    'types': ['country', 'political']},\n",
       "   {'long_name': '150-043',\n",
       "    'short_name': '150-043',\n",
       "    'types': ['postal_code']}],\n",
       "  'formatted_address': '대한민국 서울특별시 영등포구 국회대로 608',\n",
       "  'geometry': {'location': {'lat': 37.5260441, 'lng': 126.9008091},\n",
       "   'location_type': 'ROOFTOP',\n",
       "   'viewport': {'northeast': {'lat': 37.5273930802915,\n",
       "     'lng': 126.9021580802915},\n",
       "    'southwest': {'lat': 37.5246951197085, 'lng': 126.8994601197085}}},\n",
       "  'partial_match': True,\n",
       "  'place_id': 'ChIJ1TimJLaffDURptXOs0Tj6sY',\n",
       "  'plus_code': {'compound_code': 'GWG2+C8 대한민국 서울특별시',\n",
       "   'global_code': '8Q98GWG2+C8'},\n",
       "  'types': ['establishment', 'point_of_interest', 'police']}]"
      ]
     },
     "execution_count": 2,
     "metadata": {},
     "output_type": "execute_result"
    }
   ],
   "source": [
    "gmaps_key = input()\n",
    "gmaps = googlemaps.Client(key=gmaps_key)\n",
    "\n",
    "gmaps.geocode('서울영등포경찰서', language='ko')"
   ]
  },
  {
   "cell_type": "code",
   "execution_count": null,
   "metadata": {},
   "outputs": [],
   "source": []
  }
 ],
 "metadata": {
  "kernelspec": {
   "display_name": "Python 3.10.4 ('practice')",
   "language": "python",
   "name": "python3"
  },
  "language_info": {
   "codemirror_mode": {
    "name": "ipython",
    "version": 3
   },
   "file_extension": ".py",
   "mimetype": "text/x-python",
   "name": "python",
   "nbconvert_exporter": "python",
   "pygments_lexer": "ipython3",
   "version": "3.10.4"
  },
  "orig_nbformat": 4,
  "vscode": {
   "interpreter": {
    "hash": "8aa60c9f5ff1eb30bf197c419a177e261591c7479a6d328709822c2993898b18"
   }
  }
 },
 "nbformat": 4,
 "nbformat_minor": 2
}

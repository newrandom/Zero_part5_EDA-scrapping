{
 "cells": [
  {
   "cell_type": "markdown",
   "metadata": {},
   "source": [
    "# naver 검색 api 예제"
   ]
  },
  {
   "cell_type": "code",
   "execution_count": 17,
   "metadata": {},
   "outputs": [],
   "source": [
    "def naver_api (id, pw, search, where):\n",
    "    import os\n",
    "    import sys\n",
    "    import urllib.request\n",
    "\n",
    "    client_id = id             # INPUT\n",
    "    client_secret = pw       # INPUT\n",
    "        \n",
    "    encText = urllib.parse.quote(search)     # INPUT\n",
    "    url = f'https://openapi.naver.com/v1/search/{where}?query=' + encText   # json 결과\n",
    "    # url = f'https://openapi.naver.com/v1/search/{where}.xml?query=' + encText     # xml 결과\n",
    "\n",
    "    request = urllib.request.Request(url)\n",
    "    # request = urllib.request.Request(url, headers={'User-Agent' : 'Chrome'})\n",
    "\n",
    "    request.add_header('X-Naver-Client-Id', client_id)\n",
    "    request.add_header('X-Naver-Client-Secret', client_secret)\n",
    "\n",
    "    response = urllib.request.urlopen(request)\n",
    "    rescode = response.getcode()\n",
    "    if (rescode==200):\n",
    "        response_body = response.read()\n",
    "        print(response_body.decode('utf-8'))\n",
    "    else:\n",
    "        print('Error Code :' + rescode)"
   ]
  },
  {
   "cell_type": "markdown",
   "metadata": {},
   "source": [
    "---"
   ]
  },
  {
   "cell_type": "code",
   "execution_count": 19,
   "metadata": {},
   "outputs": [],
   "source": [
    "id = input('id'); pw = input('password')"
   ]
  },
  {
   "cell_type": "code",
   "execution_count": 20,
   "metadata": {},
   "outputs": [
    {
     "name": "stdout",
     "output_type": "stream",
     "text": [
      "파이썬\n"
     ]
    }
   ],
   "source": [
    "search = input('search')\n",
    "print(search)"
   ]
  },
  {
   "cell_type": "code",
   "execution_count": 21,
   "metadata": {},
   "outputs": [
    {
     "name": "stdout",
     "output_type": "stream",
     "text": [
      "book\n"
     ]
    }
   ],
   "source": [
    "where = input('where')      # blog, news, book, adult, encyc, movie, cafearticle, kin, local, errata, webkr, image, shop, doc\n",
    "print(where)"
   ]
  },
  {
   "cell_type": "markdown",
   "metadata": {},
   "source": [
    "---"
   ]
  },
  {
   "cell_type": "code",
   "execution_count": 22,
   "metadata": {},
   "outputs": [
    {
     "name": "stdout",
     "output_type": "stream",
     "text": [
      "{\n",
      "\t\"lastBuildDate\":\"Sat, 06 Aug 2022 03:02:56 +0900\",\n",
      "\t\"total\":760,\n",
      "\t\"start\":1,\n",
      "\t\"display\":10,\n",
      "\t\"items\":[\n",
      "\t\t{\n",
      "\t\t\t\"title\":\"파이썬 자동화 교과서 (업무 생산성을 3배 높이는 엑셀, 워드, 크롤링, 메일 자동화 기술)\",\n",
      "\t\t\t\"link\":\"https:\\/\\/search.shopping.naver.com\\/book\\/catalog\\/33275494626\",\n",
      "\t\t\t\"image\":\"https:\\/\\/shopping-phinf.pstatic.net\\/main_3327549\\/33275494626.20220716093824.jpg\",\n",
      "\t\t\t\"author\":\"구지라 히코즈쿠에\",\n",
      "\t\t\t\"discount\":\"24300\",\n",
      "\t\t\t\"publisher\":\"제이펍\",\n",
      "\t\t\t\"pubdate\":\"20220719\",\n",
      "\t\t\t\"isbn\":\"9791192469195\",\n",
      "\t\t\t\"description\":\"매일 지루하게 반복되는 작업, 이제 안녕 \\n정시 퇴근과 연봉 인상을 보장하는 파이썬 업무 자동화 기술\\n\\n사람이 종일 작업할 반복 업무를 프로그래밍을 이용하면 2시간 만에 끝낼 수 있다. 파이썬은 누구나 입문할 수 있는 프로그래밍 언어로, 이 책은 엑셀 데이터 처리 등 일상적인 업무를 파이썬으로 자동화하는 방법을 설명한다. 엑셀 파일 읽고 쓰기, 워드\\/PDF 저장 등 오피스 문서 자동화로 시작해서, 나아가 웹 브라우저에서 데이터 가져오기, 메일 전송, SNS 게시, 마우스\\/키보드 조작까지, 일과 삶을 편리하게 해주는 자동화 지식을 담았다. \\n\\n1장은 파이썬을 설치하고 간단한 코드를 돌려본다. 2장에서는 openpyxl 등으로 엑셀 파일을 열고 데이터를 읽고 쓰는 법, 그리고 셀 서식에 대해서 배운다. 3장은 좀 더 비즈니스 친화적인 내용으로 템플릿 양식 활용, 복수 파일 취합, 그리고 워드(python-docx)나 CSV와 엑셀을 연계하는 방법 등을 살펴본다. \\n\\n모든 것이 웹으로 이루어지는 오늘날 추세에 맞게, 4장은 뷰티풀 수프(bs4)와 requests를 이용한 웹 크롤링\\/스크레이핑을 다룬다. HTML\\/CSS\\/DOM을 이해하는 것은 물론, 셀레늄과 크롬드라이버로 동적 사이트를 조작하는 방법까지 제대로 배울 수 있다. 5장은 비즈니스에서 빼놓을 수 없는 메일 자동화로 시작한다. 파이썬으로 지메일, 아웃룩, 네이버 메일로 메일을 보내는 방법을 다룬다. 이어서 라인(LINE) 및 트위터 같은 SNS의 API를 이용해 게시물을 올리는 법을 다룬다. \\n\\n마지막 6장은 업무에 도움이 되는 추가적인 자동화 기술을 다룬다. 간단한 웹 서버 구축(플라스크)과 대화상자를 사용하는 데스크톱 앱 생성(PySimpleGUI)을 다루고, 매크로처럼 마우스와 키보드를 자동화(PyAutoGUI)하는 방법도 살펴본다. 부록으로는 파이썬 문법 핵심을 수록했다. \\n\\n거의 모든 예제에 대해 윈도우, 리눅스, macOS에서 모두 작동하는 예제 코드를 제공하며, 초심자도 이해할 수 있도록 코드마다 친절한 설명을 달았다. 특히 한국어판에서는 한국 실정에 맞지 않는 원서 예제나 코드를 모두 새롭게 작성하고 테스트했다. 여기에 엑셀 파일 등 실습에 사용할 샘플 데이터를 충분히 제공하므로, 입문자도 실습을 통해 파이썬을 익히고 자신의 업무에 적용할 수 있다. \\n\\n대상 독자\\n■ 프로그래밍으로 즐겁게 업무를 처리하고 싶은 분\\n■ 엑셀, 워드, 웹 브라우저 등을 이용하는 사무 관련 업무를 자동화하고 싶은 분\\n■ 업무 자동화의 핵심을 알고 싶은 분\"\n",
      "\t\t},\n",
      "\t\t{\n",
      "\t\t\t\"title\":\"혼자 공부하는 파이썬 (1:1 과외하듯 배우는 프로그래밍 자습서)\",\n",
      "\t\t\t\"link\":\"https:\\/\\/search.shopping.naver.com\\/book\\/catalog\\/32507605957\",\n",
      "\t\t\t\"image\":\"https:\\/\\/shopping-phinf.pstatic.net\\/main_3250760\\/32507605957.20220603093703.jpg\",\n",
      "\t\t\t\"author\":\"윤인성\",\n",
      "\t\t\t\"discount\":\"19610\",\n",
      "\t\t\t\"publisher\":\"한빛미디어\",\n",
      "\t\t\t\"pubdate\":\"20220601\",\n",
      "\t\t\t\"isbn\":\"9791162245651\",\n",
      "\t\t\t\"description\":\"『혼자 공부하는 파이썬』이 더욱 흥미있고 알찬 내용으로 개정되었습니다. 프로그래밍이 정말 처음인 입문자도 따라갈 수 있는 친절한 설명과 단계별 학습은 그대로! 혼자 공부하더라도 체계적으로 계획을 세워 학습할 수 있도록 ‘혼공 계획표’를 새롭게 추가했습니다. 또한 입문자가 자주 물어보는 질문과 오류 해결 방법을 적재적소에 배치하여 예상치 못한 문제에 부딪혀도 좌절하지 않고 끝까지 완독할 수 있도록 도와줍니다. 단순한 문법 암기와 코딩 따라하기에 지쳤다면, 새로운 혼공파와 함께 ‘누적 예제’와 ‘도전 문제’로 프로그래밍의 신세계를 경험해 보세요! 배운 내용을 씹고 뜯고 맛보고 즐기다 보면 응용력은 물론 알고리즘 사고력까지 키워 코딩 실력이 쑥쑥 성장할 것입니다.\\n\\n혼자 해도 충분하다! 1:1 과외하듯 배우는 파이썬 프로그래밍 자습서\\n이 책은 독학으로 파이썬을 배우는 입문자가 ‘꼭 필요한 내용을 제대로 학습’할 수 있도록 구성했습니다. 뭘 모르는지조차 모르는 입문자의 막연한 마음에 십분 공감하여 과외 선생님이 알려주듯 친절하게, 핵심적인 내용만 콕콕 집어줍니다. 책의 첫 페이지를 펼쳐서 마지막 페이지를 덮을 때까지, 혼자서도 충분히 파이썬을 배울 수 있다는 자신감과 확신이 계속될 것입니다!\\n\\n베타리더 검증으로, ‘함께 만든’ 입문자 맞춤형 도서\\n베타리더와 함께 입문자에게 맞는 난이도, 분량, 학습 요소 등을 적극 반영했습니다. 어려운 용어와 개념은 한 번 더 풀어쓰고, 복잡한 설명은 눈에 잘 들어오는 그림으로 풀어냈습니다. ‘혼자 공부해 본’ 여러 입문자의 초심과 눈높이가 책 곳곳에 반영된 것이 이 책의 가장 큰 장점입니다.\"\n",
      "\t\t},\n",
      "\t\t{\n",
      "\t\t\t\"title\":\"파이썬 머신러닝 완벽 가이드 (다양한 캐글 예제와 함께 기초 알고리즘부터 최신 기법까지 배우는)\",\n",
      "\t\t\t\"link\":\"https:\\/\\/search.shopping.naver.com\\/book\\/catalog\\/32485894885\",\n",
      "\t\t\t\"image\":\"https:\\/\\/shopping-phinf.pstatic.net\\/main_3248589\\/32485894885.20220527043735.jpg\",\n",
      "\t\t\t\"author\":\"권철민\",\n",
      "\t\t\t\"discount\":\"36000\",\n",
      "\t\t\t\"publisher\":\"위키북스\",\n",
      "\t\t\t\"pubdate\":\"20220421\",\n",
      "\t\t\t\"isbn\":\"9791158393229\",\n",
      "\t\t\t\"description\":\"자세한 이론 설명과 파이썬 실습을 통해 머신러닝을 완벽하게 배울 수 있습니다!\\n\\n《파이썬 머신러닝 완벽 가이드》는 이론 위주의 머신러닝 책에서 탈피해, 다양한 실전 예제를 직접 구현해 보면서 머신러닝을 체득할 수 있도록 만들었습니다. 캐글과 UCI 머신러닝 리포지토리에서 난이도가 있는 실습 데이터를 기반으로 실전 예제를 구성했고, XGBoost, LightGBM, 스태킹 기법 등 캐글의 많은 데이터 사이언스에서 애용하는 최신 알고리즘과 기법을 상세하게 설명했습니다.\\n\\n이번 개정2판에서는 최신 사이킷런 버전(1.0.2)을 포함해 책에서 사용되는 모든 라이브러리를 최신 버전으로 업그레이드한 실습 코드를 구현하고, 다양한 유형의 하이퍼파라미터를 가지는 XGBoost나 LightGBM 모델의 최적 하이퍼파라미터 튜닝을 위한 베이지안 최적화 기법 적용 실습을 제공합니다. 또한 머신러닝 관련 데이터 분석에 널리 쓰이는 시각화 라이브러리인 matplotlib과 seaborn의 활용법을 다룬 장을 새롭게 추가했습니다.\"\n",
      "\t\t},\n",
      "\t\t{\n",
      "\t\t\t\"title\":\"파이썬과 40개의 작품들 (자동화, 크롤링, 이미지처리, 데이터분석, 웹페이지, GUI 프로그램, 게임)\",\n",
      "\t\t\t\"link\":\"https:\\/\\/search.shopping.naver.com\\/book\\/catalog\\/32472041705\",\n",
      "\t\t\t\"image\":\"https:\\/\\/shopping-phinf.pstatic.net\\/main_3247204\\/32472041705.20220527090930.jpg\",\n",
      "\t\t\t\"author\":\"장문철\",\n",
      "\t\t\t\"discount\":\"16920\",\n",
      "\t\t\t\"publisher\":\"앤써북\",\n",
      "\t\t\t\"pubdate\":\"20220228\",\n",
      "\t\t\t\"isbn\":\"9791185553931\",\n",
      "\t\t\t\"description\":\"이 책은 내 업무와 생활에 바로 적용할 수 있는 40개의 프로그램을 직접 코딩해서 만들어보고, 동시에 파이썬을 자연스럽게 이해할 수 있게 구성하였다!\\n\\n파이썬 기초 문법 떼고 자동화, 크롤링, 이미지처리, 데이터분석, 웹페이지, GUI 프로그램, 게임, 인공지능 관련 40개 프로그램 직접 파이썬 코딩하며 만들어 본다.  \\n\\n이 책은 파이썬 기초 문법을 익힌 후 총 40개의 주제별 프로그램을 직접 코딩하며 만들어볼 수 있도록 구성하였다.\"\n",
      "\t\t},\n",
      "\t\t{\n",
      "\t\t\t\"title\":\"파이썬\",\n",
      "\t\t\t\"link\":\"https:\\/\\/search.shopping.naver.com\\/book\\/catalog\\/32460987987\",\n",
      "\t\t\t\"image\":\"https:\\/\\/shopping-phinf.pstatic.net\\/main_3246098\\/32460987987.20220527060746.jpg\",\n",
      "\t\t\t\"author\":\"홍의경\",\n",
      "\t\t\t\"discount\":\"28800\",\n",
      "\t\t\t\"publisher\":\"생능출판\",\n",
      "\t\t\t\"pubdate\":\"20220309\",\n",
      "\t\t\t\"isbn\":\"9788970506784\",\n",
      "\t\t\t\"description\":\"코딩 실력을 키우는 지름길은 실습이다.\\n\\n2008년 즈음에 검인정 중학교 교과서 정보1, 정보2, 정보3을 공저로 저술하였습니다. 그 당시에 8종류의 교과서가 검인정에 합격하였는데, 파이썬을 기반으로 하는 교과서가 2종류, C언어를 기반으로 하는 교과서가 2종류, 베이직을 기반으로 하는 교과서가 2종류, 스크래치를 기반으로 하는 교과서가 2종류였습니다.\\n\\n교육용 언어로 시작한 파이썬이 중학교 학생들이 비교적 쉽게 학습할 수 있는 프로그래밍 언어라고 생각했는데 10여년의 세월이 흐른 지금 파이썬이 활용되는 분야가 가히 폭발적으로 증가하였습니다. \\n\\n파이썬에 관한 쉽고 좋은 교재를 저술하기 위해서 인터넷에서 30,000페이지 이상의 자료를 찾아서 검토하였습니다. 어쩌면 파이썬이 첫 프로그래밍 언어일 본 교재의 독자들이 두려움 없이 파이썬을 기초부터 쉽게 공부하다가, 교재를 다 읽고 나면 “어느새 중급 수준에 도달했구나”라는 생각이 들도록  완성도 높은 교재를 목표로 하였습니다. \\n\\n입문자를 대상으로 하는 교재일수록 집필하는데 훨씬 더 많은 정성과 노력이 필요하다는 것을 잘 알고 있습니다. 개인적으로는 데이터베이스 전공교재를 저술할 때보다 몇 배 더 힘들었고, 공을 많이 들였습니다. \\n\\n원고를 버전 9까지 작성하는 동안 셀 수 없이 원고를 읽어보면서 꼭 필요하지 않은 문장은 삭제하고, 필요한 문장은 반드시 넣었습니다. 고등학교 검인정 교과서 1권, 중학교 검인정 교과서 3권, 데이터베이스 전공 교재 2권, 엑셀 교재 1권, 번역서 2권을 집필하면서 나름대로 한글을 정확하고 간결하게 표현하는데 자신이 있습니다.\"\n",
      "\t\t},\n",
      "\t\t{\n",
      "\t\t\t\"title\":\"Do it! 쉽게 배우는 파이썬 데이터 분석 (데이터 분석 프로젝트 전 과정 수록!)\",\n",
      "\t\t\t\"link\":\"https:\\/\\/search.shopping.naver.com\\/book\\/catalog\\/32474211621\",\n",
      "\t\t\t\"image\":\"https:\\/\\/shopping-phinf.pstatic.net\\/main_3247421\\/32474211621.20220527075531.jpg\",\n",
      "\t\t\t\"author\":\"김영우\",\n",
      "\t\t\t\"discount\":\"20700\",\n",
      "\t\t\t\"publisher\":\"이지스퍼블리싱\",\n",
      "\t\t\t\"pubdate\":\"20220531\",\n",
      "\t\t\t\"isbn\":\"9791163033493\",\n",
      "\t\t\t\"description\":\"통계, 파이썬을 1도 몰라도 데이터를 혼자서 다룰 수 있다!\\n데이터 분석 프로젝트 전 과정 수록!\\n\\n데이터 분석 분야의 명강사이며 이 분야 베스트셀러 저자인 김영우 선생님의 강의가 책으로 나왔다. 통계, 프로그래밍, 데이터 분석을 전혀 몰라도 《Do it! 쉽게 배우는 파이썬 데이터 분석》을 통해 최근 주목받는 데이터 분석 기법을 재미있게 배울 수 있다. 데이터 분석에 필요한 파이썬 문법은 이 책에 나온 것만 보면 된다. 이 책은 데이터 정제, 가공, 분석부터 그래프 그리기까지 실제 현업에서 데이터 분석 프로젝트를 할 때와 같은 모든 과정을 직접 해볼 수 있다. 쉬운 예제부터 차근차근 실습하다 보면 문과생도 파이썬 코드에 익숙해지고, 끝에 가서는 자신만의 훌륭한 데이터 분석 프로젝트를 완수할 수 있다!\"\n",
      "\t\t},\n",
      "\t\t{\n",
      "\t\t\t\"title\":\"CODING BASICS PYTHON (파이썬)\",\n",
      "\t\t\t\"link\":\"https:\\/\\/search.shopping.naver.com\\/book\\/catalog\\/32440944646\",\n",
      "\t\t\t\"image\":\"https:\\/\\/shopping-phinf.pstatic.net\\/main_3244094\\/32440944646.20220527033702.jpg\",\n",
      "\t\t\t\"author\":\"김상민^장성식^김일태\",\n",
      "\t\t\t\"discount\":\"18000\",\n",
      "\t\t\t\"publisher\":\"렉스미디어닷넷\",\n",
      "\t\t\t\"pubdate\":\"20220210\",\n",
      "\t\t\t\"isbn\":\"9788959604210\",\n",
      "\t\t\t\"description\":\"파이썬으로 다지는 프로그래밍의 기초\\n\\nㆍ 다양한 예제를 활용하여 초보자도 쉽게 프로그래밍의 기본을 익힐 수 있는 파이썬 입문서입니다.\\nㆍ 문법을 사전식으로 나열하지 않고 기능적인 프로그램을 하나씩 완성하면서 익힐 수 있게 구성했습니다.\\nㆍ 단계별로 완성하는 장별 예제 및 연습문제를 바탕으로 자신만의 프로그램을 완성할 수 있습니다.\"\n",
      "\t\t},\n",
      "\t\t{\n",
      "\t\t\t\"title\":\"파이썬 훈련소\",\n",
      "\t\t\t\"link\":\"https:\\/\\/search.shopping.naver.com\\/book\\/catalog\\/33700901627\",\n",
      "\t\t\t\"image\":\"https:\\/\\/shopping-phinf.pstatic.net\\/main_3370090\\/33700901627.20220726163112.jpg\",\n",
      "\t\t\t\"author\":\"북마크\",\n",
      "\t\t\t\"discount\":\"9300\",\n",
      "\t\t\t\"publisher\":\"부크크(bookk)\",\n",
      "\t\t\t\"pubdate\":\"20220719\",\n",
      "\t\t\t\"isbn\":\"9791137289482\",\n",
      "\t\t\t\"description\":\"코딩 왕초보도 인터렉티브 쉘을 통하여 쉽게 파이썬을 배울수 있도록 구성한 책이자 파이썬의 간단한 개념 설명과 직접 타이핑을 통해 빠르게 파이썬의 뼈대를 익히고, 형성해 주는 책이다.\"\n",
      "\t\t},\n",
      "\t\t{\n",
      "\t\t\t\"title\":\"파이썬 (제2판)\",\n",
      "\t\t\t\"link\":\"https:\\/\\/search.shopping.naver.com\\/book\\/catalog\\/32436240934\",\n",
      "\t\t\t\"image\":\"https:\\/\\/shopping-phinf.pstatic.net\\/main_3243624\\/32436240934.20220527031037.jpg\",\n",
      "\t\t\t\"author\":\"염기원^오지영\",\n",
      "\t\t\t\"discount\":\"16200\",\n",
      "\t\t\t\"publisher\":\"북두\",\n",
      "\t\t\t\"pubdate\":\"20220120\",\n",
      "\t\t\t\"isbn\":\"9791166750991\",\n",
      "\t\t\t\"description\":\"책의 전반부는 비전공자의 입장에서 비전공자를 위한 파이썬 프로그래밍의 기초적인 내용으로 구성되어 있다. 프로그래밍에 익숙하거나 파이썬 경험이 있는 독자들은 곧바로 책의 후반부를 공부하는 것을 추천한다. 책의 전반부에서는 저자가 처음 컴퓨터 프로그래밍이라는 것을 배울 때 가장 어려워했던 변수와 메모리 관계, 특성에 대해서 상세하게 설명하면서 비전공자들이 쉽게 프로그래밍에 입문할 수 있도록 하였다. 대부분의 프로그래밍 교재와 다를바 없이, 파이썬으로 프로그램을 작성할 수 있도록 개발환경을 설치하는 과정과 사용 가능한 프로그래밍 툴에 대해서도 빠지지 않고 최대한 상세한 설명과 충분한 그림을 삽입하였다. 또한, 전반부의 뒷부분은 데이터 분석에 필요한 파이썬 프로그램 위주로 구성해서 앞부분의 기초 프로그래밍 지식을 바탕으로 본격적인 데이터 분석을 위한 토대를 마련할 수 있도록 구성하였다.\"\n",
      "\t\t},\n",
      "\t\t{\n",
      "\t\t\t\"title\":\"새내기 파이썬\",\n",
      "\t\t\t\"link\":\"https:\\/\\/search.shopping.naver.com\\/book\\/catalog\\/33084056619\",\n",
      "\t\t\t\"image\":\"https:\\/\\/shopping-phinf.pstatic.net\\/main_3308405\\/33084056619.20220712094239.jpg\",\n",
      "\t\t\t\"author\":\"천인국\",\n",
      "\t\t\t\"discount\":\"29100\",\n",
      "\t\t\t\"publisher\":\"생능출판\",\n",
      "\t\t\t\"pubdate\":\"20220630\",\n",
      "\t\t\t\"isbn\":\"9788970505558\",\n",
      "\t\t\t\"description\":\"파이썬은 현재 가장 각광받는 언어라고 말할 수 있다. 최근에 인공지능이나 데이터 과학, 영상처리, 업무 자동화 분야는 파이썬으로 프로그램을 작성하는 것이 거의 표준으로 되어 있다. 해가 갈수록 각 분야에서 파이썬 활용이 폭발적으로 늘어나고 있다. 이 책은 다양한 전공의 학생들에게 파이썬을 소개하고, 해당 전공에서 파이썬을 활용하기 위한 목적으로 기획되었다. 이 책을 저술하면서 역점을 두었던 몇 가지는 다음과 같다.\\n\\nㆍ 파이썬 기초부터 심도 있는 내용까지를 다루려고 노력하였다.\\nㆍ 다양한 그림을 사용하여 내용을 쉽게 이해할 수 있도록 노력하였다.\\nㆍ 독자들이 흥미를 가질만한 예제(example)를 간추려서 제공하였다.\\nㆍ 독자들이 다양하게 변형시켜보고 실험할 수 있는 주제는 Lab으로 제공하였고 도전할 수 있는 주제를 제시하였다.\\nㆍ 독자들이 파이썬 기초를 학습한 후에, 다양한 라이브러리를 이용하여 작품을 만들 수 있도록 14장과 15장을 추가하였다. 14장에서는 데이터 과학을 위한 라이브러리들을 소개하였고 15장에서는 넘파이와 영상처리를 위한 라이브러리를 소개하였다.\"\n",
      "\t\t}\n",
      "\t]\n",
      "}\n"
     ]
    }
   ],
   "source": [
    "naver_api(id=id, pw=pw, search=search, where=where)"
   ]
  },
  {
   "cell_type": "code",
   "execution_count": null,
   "metadata": {},
   "outputs": [],
   "source": []
  }
 ],
 "metadata": {
  "kernelspec": {
   "display_name": "Python 3.10.4 ('practice')",
   "language": "python",
   "name": "python3"
  },
  "language_info": {
   "codemirror_mode": {
    "name": "ipython",
    "version": 3
   },
   "file_extension": ".py",
   "mimetype": "text/x-python",
   "name": "python",
   "nbconvert_exporter": "python",
   "pygments_lexer": "ipython3",
   "version": "3.10.4"
  },
  "orig_nbformat": 4,
  "vscode": {
   "interpreter": {
    "hash": "8aa60c9f5ff1eb30bf197c419a177e261591c7479a6d328709822c2993898b18"
   }
  }
 },
 "nbformat": 4,
 "nbformat_minor": 2
}

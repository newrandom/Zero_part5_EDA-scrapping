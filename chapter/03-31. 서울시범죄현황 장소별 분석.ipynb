{
 "cells": [
  {
   "cell_type": "code",
   "execution_count": 2,
   "metadata": {},
   "outputs": [],
   "source": [
    "import pandas as pd"
   ]
  },
  {
   "cell_type": "code",
   "execution_count": 3,
   "metadata": {},
   "outputs": [
    {
     "data": {
      "text/html": [
       "<div>\n",
       "<style scoped>\n",
       "    .dataframe tbody tr th:only-of-type {\n",
       "        vertical-align: middle;\n",
       "    }\n",
       "\n",
       "    .dataframe tbody tr th {\n",
       "        vertical-align: top;\n",
       "    }\n",
       "\n",
       "    .dataframe thead th {\n",
       "        text-align: right;\n",
       "    }\n",
       "</style>\n",
       "<table border=\"1\" class=\"dataframe\">\n",
       "  <thead>\n",
       "    <tr style=\"text-align: right;\">\n",
       "      <th></th>\n",
       "      <th>범죄명</th>\n",
       "      <th>장소</th>\n",
       "      <th>발생건수</th>\n",
       "    </tr>\n",
       "  </thead>\n",
       "  <tbody>\n",
       "    <tr>\n",
       "      <th>0</th>\n",
       "      <td>살인</td>\n",
       "      <td>아파트, 연립 다세대</td>\n",
       "      <td>12</td>\n",
       "    </tr>\n",
       "    <tr>\n",
       "      <th>1</th>\n",
       "      <td>살인</td>\n",
       "      <td>단독주택</td>\n",
       "      <td>30</td>\n",
       "    </tr>\n",
       "    <tr>\n",
       "      <th>2</th>\n",
       "      <td>살인</td>\n",
       "      <td>노상</td>\n",
       "      <td>22</td>\n",
       "    </tr>\n",
       "    <tr>\n",
       "      <th>3</th>\n",
       "      <td>살인</td>\n",
       "      <td>상점</td>\n",
       "      <td>1</td>\n",
       "    </tr>\n",
       "    <tr>\n",
       "      <th>4</th>\n",
       "      <td>살인</td>\n",
       "      <td>숙박업소, 목욕탕</td>\n",
       "      <td>4</td>\n",
       "    </tr>\n",
       "  </tbody>\n",
       "</table>\n",
       "</div>"
      ],
      "text/plain": [
       "  범죄명           장소  발생건수\n",
       "0  살인  아파트, 연립 다세대    12\n",
       "1  살인         단독주택    30\n",
       "2  살인           노상    22\n",
       "3  살인           상점     1\n",
       "4  살인    숙박업소, 목욕탕     4"
      ]
     },
     "execution_count": 3,
     "metadata": {},
     "output_type": "execute_result"
    }
   ],
   "source": [
    "crime_loc_raw = pd.read_csv(\n",
    "    '../data2/02. crime_in_Seoul_location.csv', thousands=',', encoding='euc-kr')\n",
    "crime_loc_raw.head()"
   ]
  },
  {
   "cell_type": "code",
   "execution_count": 4,
   "metadata": {},
   "outputs": [
    {
     "data": {
      "text/plain": [
       "array(['살인', '강도', '강간.추행', '절도', '폭력'], dtype=object)"
      ]
     },
     "execution_count": 4,
     "metadata": {},
     "output_type": "execute_result"
    }
   ],
   "source": [
    "crime_loc_raw['범죄명'].unique()"
   ]
  },
  {
   "cell_type": "code",
   "execution_count": 5,
   "metadata": {},
   "outputs": [
    {
     "data": {
      "text/plain": [
       "array(['아파트, 연립 다세대', '단독주택', '노상', '상점', '숙박업소, 목욕탕', '유흥 접객업소', '사무실',\n",
       "       '역, 대합실', '교통수단', '유원지 ', '학교', '금융기관', '기타'], dtype=object)"
      ]
     },
     "execution_count": 5,
     "metadata": {},
     "output_type": "execute_result"
    }
   ],
   "source": [
    "crime_loc_raw['장소'].unique()"
   ]
  },
  {
   "cell_type": "code",
   "execution_count": 7,
   "metadata": {},
   "outputs": [],
   "source": [
    "import numpy as np"
   ]
  },
  {
   "cell_type": "code",
   "execution_count": 10,
   "metadata": {},
   "outputs": [
    {
     "data": {
      "text/html": [
       "<div>\n",
       "<style scoped>\n",
       "    .dataframe tbody tr th:only-of-type {\n",
       "        vertical-align: middle;\n",
       "    }\n",
       "\n",
       "    .dataframe tbody tr th {\n",
       "        vertical-align: top;\n",
       "    }\n",
       "\n",
       "    .dataframe thead th {\n",
       "        text-align: right;\n",
       "    }\n",
       "</style>\n",
       "<table border=\"1\" class=\"dataframe\">\n",
       "  <thead>\n",
       "    <tr style=\"text-align: right;\">\n",
       "      <th>범죄명</th>\n",
       "      <th>강간.추행</th>\n",
       "      <th>강도</th>\n",
       "      <th>살인</th>\n",
       "      <th>절도</th>\n",
       "      <th>폭력</th>\n",
       "    </tr>\n",
       "    <tr>\n",
       "      <th>장소</th>\n",
       "      <th></th>\n",
       "      <th></th>\n",
       "      <th></th>\n",
       "      <th></th>\n",
       "      <th></th>\n",
       "    </tr>\n",
       "  </thead>\n",
       "  <tbody>\n",
       "    <tr>\n",
       "      <th>교통수단</th>\n",
       "      <td>691</td>\n",
       "      <td>0</td>\n",
       "      <td>0</td>\n",
       "      <td>457</td>\n",
       "      <td>222</td>\n",
       "    </tr>\n",
       "    <tr>\n",
       "      <th>금융기관</th>\n",
       "      <td>2</td>\n",
       "      <td>1</td>\n",
       "      <td>1</td>\n",
       "      <td>1081</td>\n",
       "      <td>42</td>\n",
       "    </tr>\n",
       "    <tr>\n",
       "      <th>기타</th>\n",
       "      <td>2128</td>\n",
       "      <td>67</td>\n",
       "      <td>65</td>\n",
       "      <td>21734</td>\n",
       "      <td>26382</td>\n",
       "    </tr>\n",
       "    <tr>\n",
       "      <th>노상</th>\n",
       "      <td>986</td>\n",
       "      <td>87</td>\n",
       "      <td>22</td>\n",
       "      <td>9329</td>\n",
       "      <td>24535</td>\n",
       "    </tr>\n",
       "    <tr>\n",
       "      <th>단독주택</th>\n",
       "      <td>395</td>\n",
       "      <td>15</td>\n",
       "      <td>30</td>\n",
       "      <td>2241</td>\n",
       "      <td>3579</td>\n",
       "    </tr>\n",
       "  </tbody>\n",
       "</table>\n",
       "</div>"
      ],
      "text/plain": [
       "범죄명   강간.추행  강도  살인     절도     폭력\n",
       "장소                               \n",
       "교통수단    691   0   0    457    222\n",
       "금융기관      2   1   1   1081     42\n",
       "기타     2128  67  65  21734  26382\n",
       "노상      986  87  22   9329  24535\n",
       "단독주택    395  15  30   2241   3579"
      ]
     },
     "execution_count": 10,
     "metadata": {},
     "output_type": "execute_result"
    }
   ],
   "source": [
    "crime_loc = crime_loc_raw.pivot_table(\n",
    "    crime_loc_raw, index=['장소'], columns=['범죄명'], aggfunc=[np.sum]\n",
    ")\n",
    "crime_loc.columns = crime_loc.columns.droplevel([0, 1])\n",
    "crime_loc.head()"
   ]
  },
  {
   "cell_type": "code",
   "execution_count": 11,
   "metadata": {},
   "outputs": [
    {
     "data": {
      "text/html": [
       "<div>\n",
       "<style scoped>\n",
       "    .dataframe tbody tr th:only-of-type {\n",
       "        vertical-align: middle;\n",
       "    }\n",
       "\n",
       "    .dataframe tbody tr th {\n",
       "        vertical-align: top;\n",
       "    }\n",
       "\n",
       "    .dataframe thead th {\n",
       "        text-align: right;\n",
       "    }\n",
       "</style>\n",
       "<table border=\"1\" class=\"dataframe\">\n",
       "  <thead>\n",
       "    <tr style=\"text-align: right;\">\n",
       "      <th>범죄명</th>\n",
       "      <th>강간.추행</th>\n",
       "      <th>강도</th>\n",
       "      <th>살인</th>\n",
       "      <th>절도</th>\n",
       "      <th>폭력</th>\n",
       "    </tr>\n",
       "    <tr>\n",
       "      <th>장소</th>\n",
       "      <th></th>\n",
       "      <th></th>\n",
       "      <th></th>\n",
       "      <th></th>\n",
       "      <th></th>\n",
       "    </tr>\n",
       "  </thead>\n",
       "  <tbody>\n",
       "    <tr>\n",
       "      <th>교통수단</th>\n",
       "      <td>0.324718</td>\n",
       "      <td>0.000000</td>\n",
       "      <td>0.000000</td>\n",
       "      <td>0.021027</td>\n",
       "      <td>0.008415</td>\n",
       "    </tr>\n",
       "    <tr>\n",
       "      <th>금융기관</th>\n",
       "      <td>0.000940</td>\n",
       "      <td>0.011494</td>\n",
       "      <td>0.015385</td>\n",
       "      <td>0.049738</td>\n",
       "      <td>0.001592</td>\n",
       "    </tr>\n",
       "    <tr>\n",
       "      <th>기타</th>\n",
       "      <td>1.000000</td>\n",
       "      <td>0.770115</td>\n",
       "      <td>1.000000</td>\n",
       "      <td>1.000000</td>\n",
       "      <td>1.000000</td>\n",
       "    </tr>\n",
       "    <tr>\n",
       "      <th>노상</th>\n",
       "      <td>0.463346</td>\n",
       "      <td>1.000000</td>\n",
       "      <td>0.338462</td>\n",
       "      <td>0.429235</td>\n",
       "      <td>0.929990</td>\n",
       "    </tr>\n",
       "    <tr>\n",
       "      <th>단독주택</th>\n",
       "      <td>0.185620</td>\n",
       "      <td>0.172414</td>\n",
       "      <td>0.461538</td>\n",
       "      <td>0.103110</td>\n",
       "      <td>0.135661</td>\n",
       "    </tr>\n",
       "  </tbody>\n",
       "</table>\n",
       "</div>"
      ],
      "text/plain": [
       "범죄명      강간.추행        강도        살인        절도        폭력\n",
       "장소                                                    \n",
       "교통수단  0.324718  0.000000  0.000000  0.021027  0.008415\n",
       "금융기관  0.000940  0.011494  0.015385  0.049738  0.001592\n",
       "기타    1.000000  0.770115  1.000000  1.000000  1.000000\n",
       "노상    0.463346  1.000000  0.338462  0.429235  0.929990\n",
       "단독주택  0.185620  0.172414  0.461538  0.103110  0.135661"
      ]
     },
     "execution_count": 11,
     "metadata": {},
     "output_type": "execute_result"
    }
   ],
   "source": [
    "col = ['살인', '강도', '강간', '절도', '폭력']\n",
    "crime_loc_norm = crime_loc / crime_loc.max()\n",
    "crime_loc_norm.head()       # 각 컬럼의 MAX값으로 나눈 값을 정규화 함."
   ]
  },
  {
   "cell_type": "code",
   "execution_count": 12,
   "metadata": {},
   "outputs": [
    {
     "data": {
      "text/html": [
       "<div>\n",
       "<style scoped>\n",
       "    .dataframe tbody tr th:only-of-type {\n",
       "        vertical-align: middle;\n",
       "    }\n",
       "\n",
       "    .dataframe tbody tr th {\n",
       "        vertical-align: top;\n",
       "    }\n",
       "\n",
       "    .dataframe thead th {\n",
       "        text-align: right;\n",
       "    }\n",
       "</style>\n",
       "<table border=\"1\" class=\"dataframe\">\n",
       "  <thead>\n",
       "    <tr style=\"text-align: right;\">\n",
       "      <th>범죄명</th>\n",
       "      <th>강간.추행</th>\n",
       "      <th>강도</th>\n",
       "      <th>살인</th>\n",
       "      <th>절도</th>\n",
       "      <th>폭력</th>\n",
       "      <th>종합</th>\n",
       "    </tr>\n",
       "    <tr>\n",
       "      <th>장소</th>\n",
       "      <th></th>\n",
       "      <th></th>\n",
       "      <th></th>\n",
       "      <th></th>\n",
       "      <th></th>\n",
       "      <th></th>\n",
       "    </tr>\n",
       "  </thead>\n",
       "  <tbody>\n",
       "    <tr>\n",
       "      <th>교통수단</th>\n",
       "      <td>0.324718</td>\n",
       "      <td>0.000000</td>\n",
       "      <td>0.000000</td>\n",
       "      <td>0.021027</td>\n",
       "      <td>0.008415</td>\n",
       "      <td>0.070832</td>\n",
       "    </tr>\n",
       "    <tr>\n",
       "      <th>금융기관</th>\n",
       "      <td>0.000940</td>\n",
       "      <td>0.011494</td>\n",
       "      <td>0.015385</td>\n",
       "      <td>0.049738</td>\n",
       "      <td>0.001592</td>\n",
       "      <td>0.015830</td>\n",
       "    </tr>\n",
       "    <tr>\n",
       "      <th>기타</th>\n",
       "      <td>1.000000</td>\n",
       "      <td>0.770115</td>\n",
       "      <td>1.000000</td>\n",
       "      <td>1.000000</td>\n",
       "      <td>1.000000</td>\n",
       "      <td>0.954023</td>\n",
       "    </tr>\n",
       "    <tr>\n",
       "      <th>노상</th>\n",
       "      <td>0.463346</td>\n",
       "      <td>1.000000</td>\n",
       "      <td>0.338462</td>\n",
       "      <td>0.429235</td>\n",
       "      <td>0.929990</td>\n",
       "      <td>0.632207</td>\n",
       "    </tr>\n",
       "    <tr>\n",
       "      <th>단독주택</th>\n",
       "      <td>0.185620</td>\n",
       "      <td>0.172414</td>\n",
       "      <td>0.461538</td>\n",
       "      <td>0.103110</td>\n",
       "      <td>0.135661</td>\n",
       "      <td>0.211669</td>\n",
       "    </tr>\n",
       "  </tbody>\n",
       "</table>\n",
       "</div>"
      ],
      "text/plain": [
       "범죄명      강간.추행        강도        살인        절도        폭력        종합\n",
       "장소                                                              \n",
       "교통수단  0.324718  0.000000  0.000000  0.021027  0.008415  0.070832\n",
       "금융기관  0.000940  0.011494  0.015385  0.049738  0.001592  0.015830\n",
       "기타    1.000000  0.770115  1.000000  1.000000  1.000000  0.954023\n",
       "노상    0.463346  1.000000  0.338462  0.429235  0.929990  0.632207\n",
       "단독주택  0.185620  0.172414  0.461538  0.103110  0.135661  0.211669"
      ]
     },
     "execution_count": 12,
     "metadata": {},
     "output_type": "execute_result"
    }
   ],
   "source": [
    "crime_loc_norm['종합'] = np.mean(crime_loc_norm, axis=1)\n",
    "crime_loc_norm.head()"
   ]
  },
  {
   "cell_type": "code",
   "execution_count": 17,
   "metadata": {},
   "outputs": [],
   "source": [
    "import matplotlib.pyplot as plt\n",
    "import seaborn as sns\n",
    "from matplotlib import rc\n",
    "rc('font', family='Malgun Gothic')\n",
    "plt.rcParams['axes.unicode_minus'] = False"
   ]
  },
  {
   "cell_type": "code",
   "execution_count": 18,
   "metadata": {},
   "outputs": [],
   "source": [
    "crime_loc_norm_sort = crime_loc_norm.sort_values(by='종합', ascending=False)\n",
    "\n",
    "def drawGraph():\n",
    "    plt.figure(figsize=(10, 10))\n",
    "    sns.heatmap(crime_loc_norm_sort, annot=True, fmt='f', linewidths=0.5, cmap='RdPu')\n",
    "    plt.title('범죄와 발생 장소')\n",
    "    plt.show()"
   ]
  },
  {
   "cell_type": "code",
   "execution_count": 19,
   "metadata": {},
   "outputs": [
    {
     "data": {
      "image/png": "[encoded data removed]",
      "text/plain": [
       "<Figure size 720x720 with 2 Axes>"
      ]
     },
     "metadata": {
      "needs_background": "light"
     },
     "output_type": "display_data"
    }
   ],
   "source": [
    "drawGraph()"
   ]
  },
  {
   "cell_type": "code",
   "execution_count": null,
   "metadata": {},
   "outputs": [],
   "source": []
  }
 ],
 "metadata": {
  "kernelspec": {
   "display_name": "Python 3.10.4 ('practice')",
   "language": "python",
   "name": "python3"
  },
  "language_info": {
   "codemirror_mode": {
    "name": "ipython",
    "version": 3
   },
   "file_extension": ".py",
   "mimetype": "text/x-python",
   "name": "python",
   "nbconvert_exporter": "python",
   "pygments_lexer": "ipython3",
   "version": "3.10.4"
  },
  "orig_nbformat": 4,
  "vscode": {
   "interpreter": {
    "hash": "8aa60c9f5ff1eb30bf197c419a177e261591c7479a6d328709822c2993898b18"
   }
  }
 },
 "nbformat": 4,
 "nbformat_minor": 2
}

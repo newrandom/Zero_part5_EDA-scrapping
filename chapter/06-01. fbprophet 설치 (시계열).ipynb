{
 "cells": [
  {
   "cell_type": "markdown",
   "metadata": {},
   "source": [
    "# forecast(시계열 분석)"
   ]
  },
  {
   "cell_type": "markdown",
   "metadata": {},
   "source": [
    "## 1. 배경 및 설치"
   ]
  },
  {
   "cell_type": "markdown",
   "metadata": {},
   "source": [
    "- mac(m1)\n",
    "    - conda install pandas-datareader\n",
    "    - conda install -c conda-forge fbprophet\n",
    "    - pip install fbprophet"
   ]
  }
 ],
 "metadata": {
  "kernelspec": {
   "display_name": "Python 3.10.4 ('practice')",
   "language": "python",
   "name": "python3"
  },
  "language_info": {
   "name": "python",
   "version": "3.10.4"
  },
  "orig_nbformat": 4,
  "vscode": {
   "interpreter": {
    "hash": "8aa60c9f5ff1eb30bf197c419a177e261591c7479a6d328709822c2993898b18"
   }
  }
 },
 "nbformat": 4,
 "nbformat_minor": 2
}

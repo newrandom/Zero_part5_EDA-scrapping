{
 "cells": [
  {
   "cell_type": "markdown",
   "metadata": {},
   "source": [
    "# 주유소 데이터 받아오기"
   ]
  },
  {
   "cell_type": "code",
   "execution_count": 3,
   "metadata": {},
   "outputs": [
    {
     "name": "stderr",
     "output_type": "stream",
     "text": [
      "C:\\Users\\Newrandom_Asus\\AppData\\Local\\Temp\\ipykernel_23472\\517804584.py:3: DeprecationWarning: executable_path has been deprecated, please pass in a Service object\n",
      "  driver = webdriver.Chrome('../driver/chromedriver_win_v103.exe')\n"
     ]
    }
   ],
   "source": [
    "from selenium import webdriver\n",
    "\n",
    "driver = webdriver.Chrome('../driver/chromedriver_win_v103.exe')\n",
    "url = 'https://www.opinet.co.kr/searRgSelect.do'        # 지역별 주유소 찾기 링크\n",
    "driver.get(url)\n",
    "driver.implicitly_wait(10)"
   ]
  },
  {
   "cell_type": "code",
   "execution_count": 4,
   "metadata": {},
   "outputs": [],
   "source": [
    "# 지역별 싼 쥬우소 찾기 링크 들어가기\n",
    "driver.get(url)"
   ]
  },
  {
   "cell_type": "code",
   "execution_count": 5,
   "metadata": {},
   "outputs": [],
   "source": [
    "from selenium.webdriver.common.by import By"
   ]
  },
  {
   "cell_type": "code",
   "execution_count": 9,
   "metadata": {},
   "outputs": [
    {
     "data": {
      "text/plain": [
       "<selenium.webdriver.remote.webelement.WebElement (session=\"d4708d1f51b0f6ae8a13a6f2544af405\", element=\"5d193608-03e1-4ae0-9ebe-bccc9b8d3723\")>"
      ]
     },
     "execution_count": 9,
     "metadata": {},
     "output_type": "execute_result"
    }
   ],
   "source": [
    "# 1. 시도 지정\n",
    "xpath = '//*[@id=\"SIDO_NM0\"]'\n",
    "sido_list_raw = driver.find_element(By.XPATH, xpath)\n",
    "sido_list_raw\n"
   ]
  },
  {
   "cell_type": "code",
   "execution_count": 13,
   "metadata": {},
   "outputs": [
    {
     "data": {
      "text/plain": [
       "[<selenium.webdriver.remote.webelement.WebElement (session=\"d4708d1f51b0f6ae8a13a6f2544af405\", element=\"b5bcca37-2e1c-463c-89dd-aeb29a9a4186\")>,\n",
       " <selenium.webdriver.remote.webelement.WebElement (session=\"d4708d1f51b0f6ae8a13a6f2544af405\", element=\"a1a46b5c-863e-4d79-a20c-da98a47a1b94\")>,\n",
       " <selenium.webdriver.remote.webelement.WebElement (session=\"d4708d1f51b0f6ae8a13a6f2544af405\", element=\"db618704-fd8b-4fd3-ac97-3e7d34f6aaa5\")>,\n",
       " <selenium.webdriver.remote.webelement.WebElement (session=\"d4708d1f51b0f6ae8a13a6f2544af405\", element=\"179e3503-2f63-485e-b2be-0f20c993266b\")>,\n",
       " <selenium.webdriver.remote.webelement.WebElement (session=\"d4708d1f51b0f6ae8a13a6f2544af405\", element=\"d520b820-0abb-4b91-b0c1-d3ba25d3b2bf\")>,\n",
       " <selenium.webdriver.remote.webelement.WebElement (session=\"d4708d1f51b0f6ae8a13a6f2544af405\", element=\"5ee3affd-eb40-424f-a503-fd729d5823e5\")>,\n",
       " <selenium.webdriver.remote.webelement.WebElement (session=\"d4708d1f51b0f6ae8a13a6f2544af405\", element=\"ca100fac-6e82-4dc9-b5f7-6644a1b86804\")>,\n",
       " <selenium.webdriver.remote.webelement.WebElement (session=\"d4708d1f51b0f6ae8a13a6f2544af405\", element=\"1d64e71c-2430-4190-a10a-dca3d37797ba\")>,\n",
       " <selenium.webdriver.remote.webelement.WebElement (session=\"d4708d1f51b0f6ae8a13a6f2544af405\", element=\"a2fd980b-0c5e-46a2-a816-70d780143719\")>,\n",
       " <selenium.webdriver.remote.webelement.WebElement (session=\"d4708d1f51b0f6ae8a13a6f2544af405\", element=\"6d4b7bcf-c449-4c8c-9acb-a8cdcf4e47e6\")>,\n",
       " <selenium.webdriver.remote.webelement.WebElement (session=\"d4708d1f51b0f6ae8a13a6f2544af405\", element=\"665485fe-b8d5-460e-9aff-37255330b27f\")>,\n",
       " <selenium.webdriver.remote.webelement.WebElement (session=\"d4708d1f51b0f6ae8a13a6f2544af405\", element=\"cdd72329-ebbc-4788-b523-5459b802a7cd\")>,\n",
       " <selenium.webdriver.remote.webelement.WebElement (session=\"d4708d1f51b0f6ae8a13a6f2544af405\", element=\"406e524e-5151-4afe-8d1a-ceffff796b55\")>,\n",
       " <selenium.webdriver.remote.webelement.WebElement (session=\"d4708d1f51b0f6ae8a13a6f2544af405\", element=\"f6ee76f4-fec3-4b37-ae80-a5c3d3abb1c8\")>,\n",
       " <selenium.webdriver.remote.webelement.WebElement (session=\"d4708d1f51b0f6ae8a13a6f2544af405\", element=\"eed6e343-4db8-436c-81d6-679cb54e19f2\")>,\n",
       " <selenium.webdriver.remote.webelement.WebElement (session=\"d4708d1f51b0f6ae8a13a6f2544af405\", element=\"2cc9f8c6-e923-42f5-8825-e346cfcdf3ff\")>,\n",
       " <selenium.webdriver.remote.webelement.WebElement (session=\"d4708d1f51b0f6ae8a13a6f2544af405\", element=\"01efec66-2174-471f-bf79-2815689406be\")>,\n",
       " <selenium.webdriver.remote.webelement.WebElement (session=\"d4708d1f51b0f6ae8a13a6f2544af405\", element=\"71ad1d23-470c-4689-b2fe-5b0fb9bd4170\")>]"
      ]
     },
     "execution_count": 13,
     "metadata": {},
     "output_type": "execute_result"
    }
   ],
   "source": [
    "sido_list = sido_list_raw.find_elements(By.TAG_NAME, 'option')\n",
    "sido_list"
   ]
  },
  {
   "cell_type": "code",
   "execution_count": 17,
   "metadata": {},
   "outputs": [
    {
     "data": {
      "text/plain": [
       "['서울특별시',\n",
       " '부산광역시',\n",
       " '대구광역시',\n",
       " '인천광역시',\n",
       " '광주광역시',\n",
       " '대전광역시',\n",
       " '울산광역시',\n",
       " '세종특별자치시',\n",
       " '경기도',\n",
       " '강원도',\n",
       " '충청북도',\n",
       " '충청남도',\n",
       " '전라북도',\n",
       " '전라남도',\n",
       " '경상북도',\n",
       " '경상남도',\n",
       " '제주특별자치도']"
      ]
     },
     "execution_count": 17,
     "metadata": {},
     "output_type": "execute_result"
    }
   ],
   "source": [
    "# 최종 시도 이름 리스트\n",
    "sido_names = [option.get_attribute('value') for option in sido_list]\n",
    "sido_names.remove('')\n",
    "sido_names"
   ]
  },
  {
   "cell_type": "code",
   "execution_count": 40,
   "metadata": {},
   "outputs": [
    {
     "name": "stdout",
     "output_type": "stream",
     "text": [
      "\n",
      "서울특별시\n",
      "부산광역시\n",
      "대구광역시\n",
      "인천광역시\n",
      "광주광역시\n",
      "대전광역시\n",
      "울산광역시\n",
      "세종특별자치시\n",
      "경기도\n",
      "강원도\n",
      "충청북도\n",
      "충청남도\n",
      "전라북도\n",
      "전라남도\n",
      "경상북도\n",
      "경상남도\n"
     ]
    }
   ],
   "source": [
    "t = '//*[@id=\"SIDO_NM0\"]/option[{}]'\n",
    "for i in range(1, 18):\n",
    "    a = driver.find_element(By.XPATH, t.format(i))\n",
    "    print(a.get_attribute('value'))"
   ]
  },
  {
   "cell_type": "markdown",
   "metadata": {},
   "source": [
    "# 시도 박스 클릭\n"
   ]
  },
  {
   "cell_type": "code",
   "execution_count": 42,
   "metadata": {},
   "outputs": [
    {
     "data": {
      "text/plain": [
       "['서울특별시', '부산광역시', '대구광역시', '인천광역시', '광주광역시']"
      ]
     },
     "execution_count": 42,
     "metadata": {},
     "output_type": "execute_result"
    }
   ],
   "source": [
    "sido_names[:5]"
   ]
  },
  {
   "cell_type": "code",
   "execution_count": 44,
   "metadata": {},
   "outputs": [],
   "source": [
    "sido_list_raw.send_keys(sido_names[0])"
   ]
  },
  {
   "cell_type": "markdown",
   "metadata": {},
   "source": [
    "---\n",
    "# 시군구 박스 리스트 얻어오기"
   ]
  },
  {
   "cell_type": "code",
   "execution_count": 50,
   "metadata": {},
   "outputs": [
    {
     "data": {
      "text/plain": [
       "<selenium.webdriver.remote.webelement.WebElement (session=\"d4708d1f51b0f6ae8a13a6f2544af405\", element=\"47c2d01d-2c8f-4fba-9d95-ffa90c50edc4\")>"
      ]
     },
     "execution_count": 50,
     "metadata": {},
     "output_type": "execute_result"
    }
   ],
   "source": [
    "xpath = '//*[@id=\"SIGUNGU_NM0\"]'\n",
    "sigungu_list_raw = driver.find_element(By.XPATH, xpath)\n",
    "sigungu_list_raw"
   ]
  },
  {
   "cell_type": "code",
   "execution_count": 52,
   "metadata": {},
   "outputs": [
    {
     "data": {
      "text/plain": [
       "26"
      ]
     },
     "execution_count": 52,
     "metadata": {},
     "output_type": "execute_result"
    }
   ],
   "source": [
    "sigungu_list = sigungu_list_raw.find_elements(By.TAG_NAME, 'option')\n",
    "len(sigungu_list)"
   ]
  },
  {
   "cell_type": "code",
   "execution_count": 56,
   "metadata": {},
   "outputs": [
    {
     "data": {
      "text/plain": [
       "(['강남구',\n",
       "  '강동구',\n",
       "  '강북구',\n",
       "  '강서구',\n",
       "  '관악구',\n",
       "  '광진구',\n",
       "  '구로구',\n",
       "  '금천구',\n",
       "  '노원구',\n",
       "  '도봉구',\n",
       "  '동대문구',\n",
       "  '동작구',\n",
       "  '마포구',\n",
       "  '서대문구',\n",
       "  '서초구',\n",
       "  '성동구',\n",
       "  '성북구',\n",
       "  '송파구',\n",
       "  '양천구',\n",
       "  '영등포구',\n",
       "  '용산구',\n",
       "  '은평구',\n",
       "  '종로구',\n",
       "  '중구',\n",
       "  '중랑구'],\n",
       " 25)"
      ]
     },
     "execution_count": 56,
     "metadata": {},
     "output_type": "execute_result"
    }
   ],
   "source": [
    "sigungu_names = [sigungu.get_attribute('value') for sigungu in sigungu_list]\n",
    "sigungu_names.remove('')\n",
    "sigungu_names, len(sigungu_names)"
   ]
  },
  {
   "cell_type": "code",
   "execution_count": 57,
   "metadata": {},
   "outputs": [],
   "source": [
    "sigungu_list_raw.send_keys(sigungu_names[11])   # 동작구"
   ]
  },
  {
   "cell_type": "markdown",
   "metadata": {},
   "source": [
    "---\n",
    "# 엑셀저장 하기"
   ]
  },
  {
   "cell_type": "code",
   "execution_count": 58,
   "metadata": {},
   "outputs": [],
   "source": [
    "xpath = '//*[@id=\"glopopd_excel\"]'\n",
    "driver.find_element(By.XPATH, xpath).click()"
   ]
  },
  {
   "cell_type": "markdown",
   "metadata": {},
   "source": [
    "---\n",
    "# 반복문으로 모든 구의 데이터를 엑셀 파일로 저장"
   ]
  },
  {
   "cell_type": "code",
   "execution_count": 59,
   "metadata": {},
   "outputs": [
    {
     "name": "stderr",
     "output_type": "stream",
     "text": [
      "C:\\Users\\Newrandom_Asus\\AppData\\Local\\Temp\\ipykernel_23472\\1755781605.py:4: TqdmDeprecationWarning: This function will be removed in tqdm==5.0.0\n",
      "Please use `tqdm.notebook.tqdm` instead of `tqdm.tqdm_notebook`\n",
      "  for gu in tqdm_notebook(sigungu_names):     # 시군구 리스트에서 하나씩 가져옴\n"
     ]
    },
    {
     "data": {
      "application/vnd.jupyter.widget-view+json": {
       "model_id": "76f274758be64566a4ca66c7afe56645",
       "version_major": 2,
       "version_minor": 0
      },
      "text/plain": [
       "  0%|          | 0/25 [00:00<?, ?it/s]"
      ]
     },
     "metadata": {},
     "output_type": "display_data"
    }
   ],
   "source": [
    "# import time\n",
    "from tqdm import tqdm_notebook\n",
    "\n",
    "for gu in tqdm_notebook(sigungu_names):     # 시군구 리스트에서 하나씩 가져옴\n",
    "    element = driver.find_element(By.ID, 'SIGUNGU_NM0')     # 시군구 드롭다운을 지정\n",
    "    element.send_keys(gu)       # 해당 값을 보냄\n",
    "    driver.implicitly_wait(60)  # 될 때까지 기다림\n",
    "\n",
    "    element_get_excel = driver.find_element(By.ID, 'glopopd_excel').click()     # 엑셀저장 버튼 클릭\n",
    "    driver.implicitly_wait(60)"
   ]
  },
  {
   "cell_type": "code",
   "execution_count": 60,
   "metadata": {},
   "outputs": [],
   "source": [
    "driver.close()"
   ]
  },
  {
   "cell_type": "code",
   "execution_count": null,
   "metadata": {},
   "outputs": [],
   "source": []
  }
 ],
 "metadata": {
  "kernelspec": {
   "display_name": "Python 3.10.4 ('practice')",
   "language": "python",
   "name": "python3"
  },
  "language_info": {
   "codemirror_mode": {
    "name": "ipython",
    "version": 3
   },
   "file_extension": ".py",
   "mimetype": "text/x-python",
   "name": "python",
   "nbconvert_exporter": "python",
   "pygments_lexer": "ipython3",
   "version": "3.10.4"
  },
  "orig_nbformat": 4,
  "vscode": {
   "interpreter": {
    "hash": "8aa60c9f5ff1eb30bf197c419a177e261591c7479a6d328709822c2993898b18"
   }
  }
 },
 "nbformat": 4,
 "nbformat_minor": 2
}

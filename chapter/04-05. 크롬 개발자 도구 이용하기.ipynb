{
 "cells": [
  {
   "cell_type": "code",
   "execution_count": null,
   "metadata": {},
   "outputs": [],
   "source": []
  }
 ],
 "metadata": {
  "kernelspec": {
   "display_name": "Python 3.9.10 64-bit",
   "language": "python",
   "name": "python3"
  },
  "language_info": {
   "name": "python",
   "version": "3.9.10"
  },
  "orig_nbformat": 4,
  "vscode": {
   "interpreter": {
    "hash": "d7ac95f10d229aee96d346d0c6bed4f6f163fea85a34404fd93c14a9a16aa0a3"
   }
  }
 },
 "nbformat": 4,
 "nbformat_minor": 2
}
